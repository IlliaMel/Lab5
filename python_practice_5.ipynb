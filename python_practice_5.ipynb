{
 "nbformat": 4,
 "nbformat_minor": 0,
 "metadata": {
  "colab": {
   "provenance": []
  },
  "kernelspec": {
   "name": "python3",
   "display_name": "Python 3"
  },
  "language_info": {
   "name": "python"
  }
 },
 "cells": [
  {
   "cell_type": "markdown",
   "source": [
    "# I. OOP"
   ],
   "metadata": {
    "id": "5qV_sehzFCTp"
   }
  },
  {
   "cell_type": "markdown",
   "source": [
    "1. (6б). Створіть клас Animal, додайте три атрибути, один з яких має значення за замовчуванням та два методи на свій розсуд."
   ],
   "metadata": {
    "id": "tx_U_hOALyfg"
   }
  },
  {
   "cell_type": "code",
   "source": [
    "class Animal:\n",
    "    def __init__(self, species,name, legs=4):\n",
    "        self.species = species\n",
    "        self.legs = legs\n",
    "        self.name = name\n",
    "\n",
    "    def make_sound(self):\n",
    "        return f\"The {self.species} name is  {self.name}\"\n",
    "\n",
    "    def get_legs(self):\n",
    "        return f\"The {self.species} has {self.legs} legs.\""
   ],
   "metadata": {
    "id": "-Vf895KaL88N"
   },
   "execution_count": 1,
   "outputs": []
  },
  {
   "cell_type": "markdown",
   "source": [
    "2. (2б). Створіть два обʼєкти цього класу, де один з обʼєктів створюється із дефолтним значенням атрибуту. На одному обʼєкті отримайте значення його атрибуту, а на іншому викличте один з його методів."
   ],
   "metadata": {
    "id": "X_UlOMB0L93w"
   }
  },
  {
   "cell_type": "code",
   "source": [
    "platypus = Animal(\"platypus\", name = \"Kratos\")\n",
    "snake = Animal(\"snake\", legs=0, name = \"Malen\")\n",
    "\n",
    "\n",
    "print(f\"The snake's name is {snake.name}\")\n",
    "print(platypus.get_legs())"
   ],
   "metadata": {
    "id": "7gBu0ESOMCpG"
   },
   "execution_count": 4,
   "outputs": [
    {
     "name": "stdout",
     "output_type": "stream",
     "text": [
      "The snake's name is Malen\n",
      "The platypus has 4 legs.\n"
     ]
    }
   ]
  },
  {
   "cell_type": "markdown",
   "source": [
    "3. (5б). Створіть клас, де атрибути мають різні рівні доступу. Спробуйте отримати їхні значення та опишіть результати."
   ],
   "metadata": {
    "id": "HoqSCZt1MHn5"
   }
  },
  {
   "cell_type": "code",
   "source": [
    "class Animal:\n",
    "    def __init__(self, species, name, legs=4):\n",
    "        self.species = species        # public\n",
    "        self._name = name             # protected\n",
    "        self.__legs = legs            # private\n",
    "\n",
    "# Creating Animal\n",
    "animal = Animal(\"lion\", \"Dendy\")\n",
    "\n",
    "# Public attribute\n",
    "print(animal.species)   #Outputs: lion\n",
    "# Protected attribute\n",
    "print(animal._name)      #Outputs: Dendy\n",
    "\n",
    "# print(animal.__legs)  # Error: AttributeError: 'Animal' object has no attribute '__legs'\n",
    "# Private attribute\n",
    "print(animal._Animal__legs)  #Outputs: 4"
   ],
   "metadata": {
    "id": "r9b3vJxBMSPV"
   },
   "execution_count": 10,
   "outputs": [
    {
     "name": "stdout",
     "output_type": "stream",
     "text": [
      "lion\n",
      "Dendy\n",
      "4\n"
     ]
    }
   ]
  },
  {
   "cell_type": "markdown",
   "source": [
    "4. (7б). Як ви розумієте термін self? Для чого використовується метод __init __?"
   ],
   "metadata": {
    "id": "5op2m2vgMSkZ"
   }
  },
  {
   "cell_type": "markdown",
   "source": [
    "Self is a reference to the class object itself\n",
    "__init__ is the class constructor. It is called automatically when a new object of this class is created"
   ],
   "metadata": {
    "id": "DyiPqNRvMasx"
   }
  },
  {
   "cell_type": "markdown",
   "source": [
    "5. (9б). Створіть клас Фігура без атрибутів, з методом get_area для отримання площі фігури, що повертає 0 та __add __, який приймає self та other в якості аргументів, а повертає суму площин фігур self та other."
   ],
   "metadata": {
    "id": "-6X8EGfjMd2y"
   }
  },
  {
   "cell_type": "code",
   "source": [
    "class Figure:\n",
    "    def get_area(self):\n",
    "        return 0\n",
    "\n",
    "    def __add__(self, other):\n",
    "        return self.get_area() + other.get_area()"
   ],
   "metadata": {
    "id": "4rvO_wYUMaEr"
   },
   "execution_count": null,
   "outputs": []
  },
  {
   "cell_type": "markdown",
   "source": [
    "6. (11б). Створіть 2 дочірніх класи від Фігури: Трикутник та Коло, які мають атрибути, необхідні для розрахунку площин. Визначте метод get_area в кожному з них так, щоби вони розраховували площу в залежності від формули для кожного типу фігури. Створіть обʼєкт класу Трикутник та обʼєкт класу Коло. Виконайте операцію суми за допомогою оператора + між ними."
   ],
   "metadata": {
    "id": "SFcKnnv5Mo_z"
   }
  },
  {
   "cell_type": "code",
   "source": [
    "import math\n",
    "\n",
    "class Figure:\n",
    "    def get_area(self):\n",
    "        return 0\n",
    "\n",
    "    def __add__(self, other):\n",
    "        return self.get_area() + other.get_area()\n",
    "\n",
    "class Circle(Figure):\n",
    "    def __init__(self, radius):\n",
    "        self.radius = radius\n",
    "\n",
    "    def get_area(self):\n",
    "        return math.pi * self.radius * self.radius\n",
    "\n",
    "class Triangle(Figure):\n",
    "    def __init__(self, base, height):\n",
    "        self.base = base\n",
    "        self.height = height\n",
    "\n",
    "    def get_area(self):\n",
    "        return  self.base * self.height / 2\n",
    "\n",
    "triangle = Triangle(12, 10)\n",
    "circle = Circle(15)\n",
    "print(triangle.get_area() + circle.get_area())"
   ],
   "metadata": {
    "id": "H3GVNr69Muf3"
   },
   "execution_count": 11,
   "outputs": [
    {
     "name": "stdout",
     "output_type": "stream",
     "text": [
      "766.8583470577034\n"
     ]
    }
   ]
  },
  {
   "cell_type": "markdown",
   "source": [
    "7. (3б). Продемонструйте різницю між isinstance та issubclass."
   ],
   "metadata": {
    "id": "HCvR206YMvLK"
   }
  },
  {
   "cell_type": "code",
   "source": [
    "# Validation using isinstance\n",
    "triangle = Triangle(3, 4)\n",
    "circle = Circle(5)\n",
    "\n",
    "print(isinstance(triangle, Triangle))  # True\n",
    "print(isinstance(triangle, Figure))    # True, because Triangle is a subclass of Figure\n",
    "print(isinstance(triangle, Circle))    # False\n",
    "\n",
    "# Validation using issubclass\n",
    "print(issubclass(Triangle, Figure))    # True\n",
    "print(issubclass(Figure, Triangle))    # False\n",
    "print(issubclass(Circle, Figure))      # True because Circle is a subclass of Figure"
   ],
   "metadata": {
    "id": "L_V1bBvDM0GN"
   },
   "execution_count": 12,
   "outputs": [
    {
     "name": "stdout",
     "output_type": "stream",
     "text": [
      "True\n",
      "True\n",
      "False\n",
      "True\n",
      "False\n",
      "True\n"
     ]
    }
   ]
  },
  {
   "cell_type": "markdown",
   "source": [
    "8. (13б). Створіть клас BankAccount з приватними атрибутами balance та account_number. Реалізуйте методи поповнення та зняття коштів, забезпечивши належну інкапсуляцію. Підказка: використовуйте декоратори property та setter."
   ],
   "metadata": {
    "id": "jjsaBZ-iM0Qq"
   }
  },
  {
   "cell_type": "code",
   "source": [
    "class BankAccount:\n",
    "    def __init__(self, account_number, balance=0):\n",
    "        self._balance = balance\n",
    "        self._account_number = account_number\n",
    "\n",
    "    @property\n",
    "    def balance(self):\n",
    "        return self._balance\n",
    "\n",
    "    @property\n",
    "    def account_number(self):\n",
    "        return self._account_number\n",
    "\n",
    "    @balance.setter\n",
    "    def balance(self, new_balance):\n",
    "        if new_balance >= 0:\n",
    "            self._balance = new_balance\n",
    "        else:\n",
    "            print(\"Balance cannot be negative.\")\n",
    "\n",
    "    def deposit(self, amount):\n",
    "        if amount > 0:\n",
    "            self._balance += amount\n",
    "            print(f\"Deposited: ${amount}\")\n",
    "        else:\n",
    "            print(\"Deposit amount must be positive.\")\n",
    "\n",
    "    def withdraw(self, amount):\n",
    "        if 0 < amount <= self._balance:\n",
    "            self._balance -= amount\n",
    "            print(f\"Withdrew: ${amount}\")\n",
    "        elif amount > self._balance:\n",
    "            print(\"Insufficient funds.\")\n",
    "        else:\n",
    "            print(\"Withdrawal amount must be positive.\")\n",
    "\n",
    "\n",
    "account = BankAccount(\"1238971109\", 100)\n",
    "print(f\"Initial balance: ${account.balance}\")\n",
    "account.deposit(1000)\n",
    "account.deposit(-200)\n",
    "account.deposit(1)\n",
    "print(f\"New balance: ${account.balance}\")\n",
    "account.withdraw(-50)\n",
    "account.withdraw(2000)\n",
    "account.withdraw(200)\n",
    "print(f\"Current balance: ${account.balance}\")"
   ],
   "metadata": {
    "id": "xCvZ7lh8M7YA"
   },
   "execution_count": 14,
   "outputs": [
    {
     "name": "stdout",
     "output_type": "stream",
     "text": [
      "Initial balance: $100\n",
      "Deposited: $1000\n",
      "Deposit amount must be positive.\n",
      "Deposited: $1\n",
      "New balance: $1101\n",
      "Withdrawal amount must be positive.\n",
      "Insufficient funds.\n",
      "Withdrew: $200\n",
      "Current balance: $901\n"
     ]
    }
   ]
  },
  {
   "cell_type": "markdown",
   "source": [
    "9. (11б). Створіть клас Library, який містить список об'єктів типу Book. Реалізуйте методи для додавання книги, видалення книги та відображення списку книг."
   ],
   "metadata": {
    "id": "tIzL2SJTM8ft"
   }
  },
  {
   "cell_type": "code",
   "source": [
    "class Book:\n",
    "    def __init__(self, title, author):\n",
    "        self.title = title\n",
    "        self.author = author\n",
    "\n",
    "class Library:\n",
    "    def __init__(self):\n",
    "        self.books = []\n",
    "\n",
    "    def add_book(self, book):\n",
    "        self.books.append(book)\n",
    "        print(f\"Added book: {book.title} by {book.author}\")\n",
    "\n",
    "    def remove_book(self, title):\n",
    "        for book in self.books:\n",
    "            if book.title == title:\n",
    "                self.books.remove(book)\n",
    "                print(f\"Removed book: {book.title} by {book.author}\")\n",
    "                break\n",
    "        else:\n",
    "            print(f\"Book '{title}' not found in the library.\")\n",
    "\n",
    "    def display_books(self):\n",
    "        print(\"Books in the library:\" if self.books else \"The library is empty.\")\n",
    "        [print(f\"{i}. {book.title} by {book.author}\") for i, book in enumerate(self.books, start=1)] if self.books else None\n",
    "\n",
    "\n",
    "library = Library()\n",
    "book5 = Book(\"The Catcher in the Rye\", \"J.D. Salinger\")\n",
    "library.add_book(Book(\"The Great Gatsby\", \"F. Scott Fitzgerald\"))\n",
    "library.add_book(Book(\"To Kill a Mockingbird\", \"Harper Lee\"))\n",
    "library.add_book(Book(\"1984\", \"George Orwell\"))\n",
    "library.add_book(Book(\"Pride and Prejudice\", \"Jane Austen\"))\n",
    "library.display_books()\n",
    "library.remove_book(\"1984\")\n",
    "library.display_books()"
   ],
   "metadata": {
    "id": "HWxfJKLtNAUZ"
   },
   "execution_count": 15,
   "outputs": [
    {
     "name": "stdout",
     "output_type": "stream",
     "text": [
      "Added book: The Great Gatsby by F. Scott Fitzgerald\n",
      "Added book: To Kill a Mockingbird by Harper Lee\n",
      "Added book: 1984 by George Orwell\n",
      "Added book: Pride and Prejudice by Jane Austen\n",
      "Books in the library:\n",
      "1. The Great Gatsby by F. Scott Fitzgerald\n",
      "2. To Kill a Mockingbird by Harper Lee\n",
      "3. 1984 by George Orwell\n",
      "4. Pride and Prejudice by Jane Austen\n",
      "Removed book: 1984 by George Orwell\n",
      "Books in the library:\n",
      "1. The Great Gatsby by F. Scott Fitzgerald\n",
      "2. To Kill a Mockingbird by Harper Lee\n",
      "3. Pride and Prejudice by Jane Austen\n"
     ]
    }
   ]
  },
  {
   "cell_type": "markdown",
   "source": [
    "10. (13б). Створіть клас Person з атрибутами name та age. Створіть ще один клас Employee з такими атрибутами, як department та salary. Створіть клас Manager, який успадковує обидва класи Person та Employee. Продемонструйте використання множинної спадковості, створивши обʼєкт класу Manager та отримавши mro для цього класу."
   ],
   "metadata": {
    "id": "lmV8pAwwNIqu"
   }
  },
  {
   "cell_type": "code",
   "source": [
    "class Person:\n",
    "    def __init__(self, name, age):\n",
    "        self.name = name\n",
    "        self.age = age\n",
    "\n",
    "class Employee:\n",
    "    def __init__(self, department, salary):\n",
    "        self.department = department\n",
    "        self.salary = salary\n",
    "\n",
    "class Manager(Person, Employee):\n",
    "    def __init__(self, name, age, department, salary):\n",
    "        Person.__init__(self, name, age)\n",
    "        Employee.__init__(self, department, salary)\n",
    "\n",
    "\n",
    "manager = Manager(\"Illia Melnyk\", 21, \"IT\", 5000)\n",
    "print(f\"MRO for Manager: {Manager.mro()}\")"
   ],
   "metadata": {
    "id": "R49grKlWNPeN"
   },
   "execution_count": 16,
   "outputs": [
    {
     "name": "stdout",
     "output_type": "stream",
     "text": [
      "MRO for Manager: [<class '__main__.Manager'>, <class '__main__.Person'>, <class '__main__.Employee'>, <class 'object'>]\n"
     ]
    }
   ]
  },
  {
   "cell_type": "markdown",
   "source": [
    "# II. Iterator"
   ],
   "metadata": {
    "id": "dIJyUiNBFG8G"
   }
  },
  {
   "cell_type": "markdown",
   "source": [
    "11. (4б). Визначте рядок(str) з 4ма різними за значенням символами. Створіть ітератор на основі цього рядка. Викличте 5 разів функцію next на ітераторі, 4ри перших з них огорніть у ф-цію print()."
   ],
   "metadata": {
    "id": "13vsm0NyKIzL"
   }
  },
  {
   "cell_type": "code",
   "source": [
    "my_str = \"asdf\"\n",
    "my_iter = iter(my_str)\n",
    "for i in range(5):\n",
    "    if i < 4:\n",
    "        print(next(my_iter))\n",
    "    else:\n",
    "        next(my_iter)"
   ],
   "metadata": {
    "id": "81ntabAkKuz-"
   },
   "execution_count": 20,
   "outputs": [
    {
     "name": "stdout",
     "output_type": "stream",
     "text": [
      "a\n",
      "s\n",
      "d\n",
      "f\n"
     ]
    },
    {
     "ename": "StopIteration",
     "evalue": "",
     "output_type": "error",
     "traceback": [
      "\u001B[1;31m---------------------------------------------------------------------------\u001B[0m",
      "\u001B[1;31mStopIteration\u001B[0m                             Traceback (most recent call last)",
      "Cell \u001B[1;32mIn[20], line 7\u001B[0m\n\u001B[0;32m      5\u001B[0m     \u001B[38;5;28mprint\u001B[39m(\u001B[38;5;28mnext\u001B[39m(my_iter))\n\u001B[0;32m      6\u001B[0m \u001B[38;5;28;01melse\u001B[39;00m:\n\u001B[1;32m----> 7\u001B[0m     \u001B[38;5;28;43mnext\u001B[39;49m\u001B[43m(\u001B[49m\u001B[43mmy_iter\u001B[49m\u001B[43m)\u001B[49m\n",
      "\u001B[1;31mStopIteration\u001B[0m: "
     ]
    }
   ]
  },
  {
   "cell_type": "markdown",
   "source": [
    "А що якщо викликати цю ж функцію на рядку?"
   ],
   "metadata": {
    "id": "aekWHGXOLRsO"
   }
  },
  {
   "cell_type": "code",
   "source": [],
   "metadata": {
    "id": "mxATGsErLV1i"
   },
   "execution_count": null,
   "outputs": []
  },
  {
   "cell_type": "markdown",
   "source": [
    " 12. (5б). Опишіть своїми словами в одному реченні, як ви розумієте різницю між ітерабельними обʼєктами та ітераторами (можна на прикладі)."
   ],
   "metadata": {
    "id": "XwtMEopwJ4pH"
   }
  },
  {
   "cell_type": "markdown",
   "source": [
    "Iterables are objects that can be iterated over using an iterator , while iterators are objects that are responsible for returning the elements of an iterable object sequentially"
   ],
   "metadata": {
    "id": "-sHrODc3KFn8"
   }
  },
  {
   "cell_type": "markdown",
   "source": [
    "13. (11б). Створіть клас, що має визначений Iterator Protocol та при кожному виклику next повертає літери англійської абетки, поки вони не вичерпаються."
   ],
   "metadata": {
    "id": "E9qJWmNbK8Gl"
   }
  },
  {
   "cell_type": "code",
   "source": [
    "class AlphabetIterator:\n",
    "    def __init__(self):\n",
    "        self.current_letter = ord('a')\n",
    "\n",
    "    def __iter__(self):\n",
    "        return self\n",
    "\n",
    "    def __next__(self):\n",
    "        if self.current_letter <= ord('z'):\n",
    "            _letter = chr(self.current_letter)\n",
    "            self.current_letter += 1\n",
    "            return _letter\n",
    "        else:\n",
    "            raise StopIteration\n",
    "\n",
    "alphabet_iter = AlphabetIterator()\n",
    "for letter in alphabet_iter:\n",
    "    print(letter)"
   ],
   "metadata": {
    "id": "cqx-g_RsLo6I"
   },
   "execution_count": 23,
   "outputs": [
    {
     "name": "stdout",
     "output_type": "stream",
     "text": [
      "a\n",
      "b\n",
      "c\n",
      "d\n",
      "e\n",
      "f\n",
      "g\n",
      "h\n",
      "i\n",
      "j\n",
      "k\n",
      "l\n",
      "m\n",
      "n\n",
      "o\n",
      "p\n",
      "q\n",
      "r\n",
      "s\n",
      "t\n",
      "u\n",
      "v\n",
      "w\n",
      "x\n",
      "y\n",
      "z\n"
     ]
    }
   ]
  },
  {
   "cell_type": "markdown",
   "source": [
    "# Вітаю! Ви велика(ий) молодець, що впоралась(вся). Похваліть себе та побалуйте чимось приємним. Я Вами пишаюся."
   ],
   "metadata": {
    "id": "Z3E3S_s1Fv7-"
   }
  }
 ]
}
